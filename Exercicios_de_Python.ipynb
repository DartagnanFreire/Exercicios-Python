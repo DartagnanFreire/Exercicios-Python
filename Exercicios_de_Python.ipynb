{
  "nbformat": 4,
  "nbformat_minor": 0,
  "metadata": {
    "colab": {
      "provenance": [],
      "authorship_tag": "ABX9TyM+jNZlUrWfJ+iIF22Jw2M7",
      "include_colab_link": true
    },
    "kernelspec": {
      "name": "python3",
      "display_name": "Python 3"
    },
    "language_info": {
      "name": "python"
    }
  },
  "cells": [
    {
      "cell_type": "markdown",
      "metadata": {
        "id": "view-in-github",
        "colab_type": "text"
      },
      "source": [
        "<a href=\"https://colab.research.google.com/github/DartagnanFreire/Exercicios-Python/blob/main/Exercicios_de_Python.ipynb\" target=\"_parent\"><img src=\"https://colab.research.google.com/assets/colab-badge.svg\" alt=\"Open In Colab\"/></a>"
      ]
    },
    {
      "cell_type": "markdown",
      "source": [
        "# Olá Mundo"
      ],
      "metadata": {
        "id": "Kh_KSD4AuJAt"
      }
    },
    {
      "cell_type": "code",
      "execution_count": null,
      "metadata": {
        "id": "7HwFf3ejsRtC"
      },
      "outputs": [],
      "source": [
        "print(\"Olá, mundo!\")"
      ]
    },
    {
      "cell_type": "markdown",
      "source": [
        "# Mensagem de boas vindas"
      ],
      "metadata": {
        "id": "SzJlvWGnuapU"
      }
    },
    {
      "cell_type": "code",
      "source": [
        "nome = str(input('Digite seu nome: '))\n",
        "print(f'Olá {nome}, seja bem vindo!')"
      ],
      "metadata": {
        "id": "PZZwq0VeufXz"
      },
      "execution_count": null,
      "outputs": []
    },
    {
      "cell_type": "markdown",
      "source": [
        "# Crie um programa que leia dois números e mostre a soma entre eles."
      ],
      "metadata": {
        "id": "expvAYrWv0_Y"
      }
    },
    {
      "cell_type": "code",
      "source": [
        "num1 = int(input('Digite um número: '))\n",
        "num2 = int(input('Digite outro número: '))\n",
        "print(f'A soma entre os números digitados é: {num1+num2}')"
      ],
      "metadata": {
        "id": "igfGjp80v5YO"
      },
      "execution_count": null,
      "outputs": []
    },
    {
      "cell_type": "markdown",
      "source": [
        "# Faça um programa que leia algo pelo teclado e mostre na tela o seu tipo primitivo e todas as informações possíveis sobre ela."
      ],
      "metadata": {
        "id": "ltSc0JDwwN_g"
      }
    },
    {
      "cell_type": "code",
      "source": [
        "digitado = input('Digite algo: ')\n",
        "print(f'O tipo primitivo desse valor é: {type(digitado)}')\n",
        "print(f'O que foi digitado só tem espaços? {digitado.isspace()}')\n",
        "print(f'O que foi digitado é um número? {digitado.isnumeric()}')\n",
        "print(f'O que foi digitado é alfábetico? {digitado.isalpha()}')\n",
        "print(f'O que foi digitado é alfanúmerico? {digitado.isalnum()}')\n",
        "print(f'O que foi digitado está em maiúsculas? {digitado.isupper()}')\n",
        "print(f'O que foi digitado está em minúsculas? {digitado.islower()}')\n",
        "print(f'O que foi digitado está capitalizado? {digitado.istitle()}')"
      ],
      "metadata": {
        "id": "sj0hUpZZyMs4"
      },
      "execution_count": null,
      "outputs": []
    },
    {
      "cell_type": "markdown",
      "source": [
        "# Faça um programa que leia um número inteiro e mostre na tela o seu sucessor e seu antecessor."
      ],
      "metadata": {
        "id": "SlvLZtVc0Odw"
      }
    },
    {
      "cell_type": "code",
      "source": [
        "num = int(input('Digite um número inteiro qualquer: '))\n",
        "print(f'O número digitado é: {num}')\n",
        "print(f'O seu antecessor é: {num-1}')\n",
        "print(f'O seu sucessor é: {num+1}')"
      ],
      "metadata": {
        "id": "c704QPsU0mNs"
      },
      "execution_count": null,
      "outputs": []
    },
    {
      "cell_type": "markdown",
      "source": [
        "# Crie um algoritmo que leia um número e mostre o seu dobro, triplo e raiz quadrada."
      ],
      "metadata": {
        "id": "iKPw1F9E2qVN"
      }
    },
    {
      "cell_type": "code",
      "source": [
        "num = int(input('Digite um número: '))\n",
        "print(f'O número digitado é: {num}')\n",
        "print(f'O seu dobro é: {num*2}')\n",
        "print(f'O seu triplo é: {num*3}')\n",
        "print(f'Sua raiz quadrada é: {num**0.5:.2f}')"
      ],
      "metadata": {
        "id": "wtcv21hM2xu2"
      },
      "execution_count": null,
      "outputs": []
    },
    {
      "cell_type": "markdown",
      "source": [
        "# Desenvolva um programa que leia as duas notas de um aluno, calcule e mostre sua média."
      ],
      "metadata": {
        "id": "RL9tzOSp4q5v"
      }
    },
    {
      "cell_type": "code",
      "source": [
        "nota1 = float(input('Digite a primeira nota do aluno: '))\n",
        "nota2 = float(input('Digite a segunda nota do aluno: '))\n",
        "print(f'A primeira nota foi {nota1}, a segunda nota foi {nota2} e por isso a média é: {(nota1 + nota2) / 2}')"
      ],
      "metadata": {
        "id": "YyeRJyap402Z"
      },
      "execution_count": null,
      "outputs": []
    },
    {
      "cell_type": "markdown",
      "source": [
        "# Escreva um programa que leia um valor em metros e o exiba convertido em centimetros e milímetros."
      ],
      "metadata": {
        "id": "GNIEVyMv5699"
      }
    },
    {
      "cell_type": "code",
      "source": [
        "num = float(input('Digite uma distancia em metros:'))\n",
        "print(f'A distancia digitada em metros foi {num}m, em centímetros foi {num*100:.0f}cm e em milímetros foi {num*1000:.0f}mm')"
      ],
      "metadata": {
        "id": "OFrVhTK-6HSh"
      },
      "execution_count": null,
      "outputs": []
    },
    {
      "cell_type": "markdown",
      "source": [
        "# Faça um programa que leia a largura e altura de uma parede em metros. Calcule sua área e a quantidade de tinta necessária para pinta-la. Cada litro de tinta pinta uma área de 2m²."
      ],
      "metadata": {
        "id": "RspUlRPGH0tY"
      }
    },
    {
      "cell_type": "code",
      "source": [
        "print(f'Calcule a quantidade de tinta para pintar sua parede.')\n",
        "larg = float(input('Digite a largura da parede: '))\n",
        "alt = float(input('Digite a altura da parede: '))\n",
        "area = larg*alt\n",
        "print(f'A área total da parede é de {area} e você precisará de {area/2}L para pintá-la.')"
      ],
      "metadata": {
        "id": "EpgZfY4kIMwm"
      },
      "execution_count": null,
      "outputs": []
    },
    {
      "cell_type": "markdown",
      "source": [
        "# Faça um algoritmo que leia o preço de um produto e mostre seu novo preço, com 5% de desconto."
      ],
      "metadata": {
        "id": "MKE7pz4yJc7i"
      }
    },
    {
      "cell_type": "code",
      "source": [
        "preco = float(input('Digite o valor do produto: '))\n",
        "print(f'O preço do produto é R${preco:.2f} e com desconto de 5%, sairá por R${preco*0.95:.2f}')"
      ],
      "metadata": {
        "id": "ZU5pFmUTKJLr"
      },
      "execution_count": null,
      "outputs": []
    },
    {
      "cell_type": "markdown",
      "source": [
        "# Faça um algoritmo que leia o salário de um funcionário e mostre o seu novo salário, com 15% de aumento."
      ],
      "metadata": {
        "id": "rpyyj4E4K6g7"
      }
    },
    {
      "cell_type": "code",
      "source": [
        "salario = float(input('Digite o salário atual no funcionário: R$'))\n",
        "print(f'O salário de R${salario:.2f}, com o aumento, passará a ser de R${salario*1.15:.2f}')"
      ],
      "metadata": {
        "id": "Nd0Nt_MHLJUd"
      },
      "execution_count": null,
      "outputs": []
    },
    {
      "cell_type": "markdown",
      "source": [
        "# Escreva um programa que converta uma temperatura digitada em °C e converta para °F."
      ],
      "metadata": {
        "id": "8pmnJV-OMVvG"
      }
    },
    {
      "cell_type": "code",
      "source": [
        "temp = float(input('Digite a temperatura atual em °C: '))\n",
        "fahr = (temp * 9/5) + 32\n",
        "print(f'A temperatura atual é de {temp}°C e em fahrenheit é de {fahr}°F')"
      ],
      "metadata": {
        "id": "HUXdk9rzMiaa"
      },
      "execution_count": null,
      "outputs": []
    },
    {
      "cell_type": "markdown",
      "source": [
        "# Escreva um programa que pergunte a quantidade de km percorrido por um carro alugado e a quantidade de dias pelos quais ele foi alugado. Calcule o preço a pagar, sabendo que o carro custa R$ 60 reais por dia e \n",
        "0,15 por km rodado."
      ],
      "metadata": {
        "id": "zyR5xscdRBJr"
      }
    },
    {
      "cell_type": "code",
      "source": [
        "print('Calculadora de valores a pagar. Locadora Dart.')\n",
        "dias = int(input('Por quantos dias o veículo foi alugado? '))\n",
        "km = float(input('Quantos km foram rodados durante esse período? '))\n",
        "print(f'Você rodou {km}km em {dias} dias.')\n",
        "print(f'O valor pelas diárias é de R${dias*60} e o valor pela kilometragem é de R${km*0.15}')\n",
        "print(f'O valor total é de R${(dias*60)+(km*0.15)}')"
      ],
      "metadata": {
        "id": "vxKJYNGhRU6g"
      },
      "execution_count": null,
      "outputs": []
    },
    {
      "cell_type": "markdown",
      "source": [
        "# Crie um programa que leia um número Real qualquer pelo teclado e mostre na tela sua porção inteira."
      ],
      "metadata": {
        "id": "A7jxE5TOvjTb"
      }
    },
    {
      "cell_type": "code",
      "source": [
        "num = float(input('Digite um número real (com casas decimais): '))\n",
        "print(f'O número digitado é {num}, e sua porção inteira é {int(num)}')"
      ],
      "metadata": {
        "id": "NByPOUM2vxU4"
      },
      "execution_count": null,
      "outputs": []
    },
    {
      "cell_type": "markdown",
      "source": [
        "# Faça um programa que leia o comprimento do cateto oposto e do cateto adjacente de um triângulo e calcule a hipotenusa."
      ],
      "metadata": {
        "id": "eTgOmfFcwqDr"
      }
    },
    {
      "cell_type": "code",
      "source": [
        "cat1 = float(input('Digite o valor do cateto oposto: '))\n",
        "cat2 = float(input('Digite o valor do cateto adjacente: '))\n",
        "hip = (cat1**2 + cat2**2)**(0.5)\n",
        "print(f'O cateto oposto é {cat1}, o adjacente é {cat2} e a hipotenusa é {hip:.2f}')"
      ],
      "metadata": {
        "id": "rkW2e0Euw7uw"
      },
      "execution_count": null,
      "outputs": []
    },
    {
      "cell_type": "markdown",
      "source": [
        "# Faça um programa que leia um ângulo qualquer e mostre na tela o valor de seno, cosseno e a tangente desse ângulo."
      ],
      "metadata": {
        "id": "po4yB5X8yEpz"
      }
    },
    {
      "cell_type": "code",
      "source": [
        "import math\n",
        "ang = float(input('Digite um ângulo: '))\n",
        "seno = math.sin(math.radians(ang))\n",
        "coss = math.cos(math.radians(ang))\n",
        "tan = math.tan(math.radians(ang))\n",
        "print(f'O ângulo digitado foi: {ang}')\n",
        "print(f'O seno de {ang} é {seno:.2f}')\n",
        "print(f'O cosseno de {ang} é {coss:.2f}')\n",
        "print(f'A tangente de {ang} é {tan:.2f}')"
      ],
      "metadata": {
        "id": "jVY7Sr7VyMUw"
      },
      "execution_count": null,
      "outputs": []
    },
    {
      "cell_type": "markdown",
      "source": [
        "# Um professor quer sortear um dos seus quatro alunos para apagar o quadro. Faça um programa que ajude ele, lendo o nome deles e escrevendo o nome escolhido."
      ],
      "metadata": {
        "id": "rFSacm65Qpc_"
      }
    },
    {
      "cell_type": "code",
      "source": [
        "import random\n",
        "nome1 = str(input('Primeiro Aluno: '))\n",
        "nome2 = str(input('Segundo Aluno: '))\n",
        "nome3 = str(input('Terceiro Aluno: '))\n",
        "nome4 = str(input('Quarto Aluno: '))\n",
        "lista = [nome1, nome2, nome3, nome4]\n",
        "escolhido = random.choice(lista)\n",
        "print(f'O aluno escolhido foi: {escolhido}')"
      ],
      "metadata": {
        "id": "eAxuQ-REVjYE"
      },
      "execution_count": null,
      "outputs": []
    },
    {
      "cell_type": "markdown",
      "source": [
        "# Um professor quer sortear a ordem de apresentação de trabalho dos alunos. Faça um programa que leia o nome dos quatro alunos e mostre a ordem sorteada."
      ],
      "metadata": {
        "id": "o1rLLF9uWiHm"
      }
    },
    {
      "cell_type": "code",
      "source": [
        "import random\n",
        "nome1 = str(input('Primeiro Aluno: '))\n",
        "nome2 = str(input('Segundo Aluno: '))\n",
        "nome3 = str(input('Terceiro Aluno: '))\n",
        "nome4 = str(input('Quarto Aluno: '))\n",
        "lista = [nome1, nome2, nome3, nome4]\n",
        "random.shuffle(lista)\n",
        "print(f'A ordem escolhida foi: {lista}')"
      ],
      "metadata": {
        "id": "EpOLuTIMXAW6"
      },
      "execution_count": null,
      "outputs": []
    },
    {
      "cell_type": "markdown",
      "source": [
        "# Faça um programa que abra e reproduza um arquivo .mp3"
      ],
      "metadata": {
        "id": "Pt7vRFxbXnXH"
      }
    },
    {
      "cell_type": "code",
      "source": [
        "!pip install pygame"
      ],
      "metadata": {
        "id": "nfTn6KItX0q_"
      },
      "execution_count": null,
      "outputs": []
    },
    {
      "cell_type": "code",
      "source": [
        "pygame.mixer.init()\n",
        "\n",
        "pygame.init()\n",
        "\n",
        "pygame.mixer.music.load('ex021.mp3')\n",
        "pygame.mixer.music.play(loops=0, start=0.0)\n",
        "pygame.event.wait()"
      ],
      "metadata": {
        "colab": {
          "base_uri": "https://localhost:8080/"
        },
        "id": "4PetztoDZdAz",
        "outputId": "64e15bdf-c93b-4f15-feee-fa6749500a2c"
      },
      "execution_count": null,
      "outputs": [
        {
          "output_type": "stream",
          "name": "stdout",
          "text": [
            "pygame 2.2.0 (SDL 2.0.22, Python 3.9.16)\n",
            "Hello from the pygame community. https://www.pygame.org/contribute.html\n"
          ]
        }
      ]
    },
    {
      "cell_type": "code",
      "source": [],
      "metadata": {
        "id": "s3FXgdhewEuA"
      },
      "execution_count": null,
      "outputs": []
    },
    {
      "cell_type": "markdown",
      "source": [
        "# Crie um programa que leia o nome completo de uma pessoa e mostre: nome completo com todas as letras maiusculas e minusculas, quantas letras ao todo (sem espaços) e quantas letras tem o primeiro nome."
      ],
      "metadata": {
        "id": "n14muHIDcPYs"
      }
    },
    {
      "cell_type": "code",
      "source": [
        "nome = str(input('Digite seu nome completo: ')).strip()\n",
        "nomeesp = len(nome)-nome.count(' ')\n",
        "primeiro = nome.split()\n",
        "print(f'Seu nome com todas as letras maiusculas fica: {nome.upper()}')\n",
        "print(f'Seu nome com todas as letras minusculas fica: {nome.lower()}')\n",
        "print(f'Seu nome tem ao todo {nomeesp} letras.')\n",
        "print(f'Seu primeiro nome tem {len(primeiro[0])} letras')"
      ],
      "metadata": {
        "id": "KT1_9hH9eJLy",
        "colab": {
          "base_uri": "https://localhost:8080/"
        },
        "outputId": "5fe23f51-7708-4263-b941-6ad94f897cc3"
      },
      "execution_count": 21,
      "outputs": [
        {
          "output_type": "stream",
          "name": "stdout",
          "text": [
            "Digite seu nome completo: Dartagnan Freire Valarini\n",
            "Seu nome com todas as letras maiusculas fica: DARTAGNAN FREIRE VALARINI\n",
            "Seu nome com todas as letras minusculas fica: dartagnan freire valarini\n",
            "Seu nome tem ao todo 23 letras.\n",
            "Seu primeiro nome tem 9 letras\n"
          ]
        }
      ]
    },
    {
      "cell_type": "markdown",
      "source": [
        "# Faça um programa que leia um número de 0 a 9999 e mostre na tela cada um dos dígitos separados.\n"
      ],
      "metadata": {
        "id": "vLpvQXgHWzhV"
      }
    },
    {
      "cell_type": "code",
      "source": [
        "num = int(input('Digite um número entre 0 a 9999: '))\n",
        "print(f'A unidade é: {num//1%10}')\n",
        "print(f'A dezena é: {num//10%10}')\n",
        "print(f'A centena é: {num//100%10}')\n",
        "print(f'O milhar é: {num//1000%10}')"
      ],
      "metadata": {
        "colab": {
          "base_uri": "https://localhost:8080/"
        },
        "id": "C2KOKNbDXKFz",
        "outputId": "1c6d6bad-e159-4002-f90c-570f602aa53b"
      },
      "execution_count": 29,
      "outputs": [
        {
          "output_type": "stream",
          "name": "stdout",
          "text": [
            "Digite um número entre 0 a 9999: 9856\n",
            "A unidade é: 6\n",
            "A dezena é: 5\n",
            "A centena é: 8\n",
            "O milhar é: 9\n"
          ]
        }
      ]
    }
  ]
}