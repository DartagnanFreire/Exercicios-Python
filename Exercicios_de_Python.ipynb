{
  "nbformat": 4,
  "nbformat_minor": 0,
  "metadata": {
    "colab": {
      "provenance": [],
      "authorship_tag": "ABX9TyPVZawde6ZmOjSoWLhdfMYD",
      "include_colab_link": true
    },
    "kernelspec": {
      "name": "python3",
      "display_name": "Python 3"
    },
    "language_info": {
      "name": "python"
    }
  },
  "cells": [
    {
      "cell_type": "markdown",
      "metadata": {
        "id": "view-in-github",
        "colab_type": "text"
      },
      "source": [
        "<a href=\"https://colab.research.google.com/github/DartagnanFreire/Exercicios-Python/blob/main/Exercicios_de_Python.ipynb\" target=\"_parent\"><img src=\"https://colab.research.google.com/assets/colab-badge.svg\" alt=\"Open In Colab\"/></a>"
      ]
    },
    {
      "cell_type": "markdown",
      "source": [
        "Olá Mundo"
      ],
      "metadata": {
        "id": "Kh_KSD4AuJAt"
      }
    },
    {
      "cell_type": "code",
      "execution_count": null,
      "metadata": {
        "id": "7HwFf3ejsRtC"
      },
      "outputs": [],
      "source": [
        "print(\"Olá, mundo!\")"
      ]
    },
    {
      "cell_type": "markdown",
      "source": [
        "Mensagem de boas vindas"
      ],
      "metadata": {
        "id": "SzJlvWGnuapU"
      }
    },
    {
      "cell_type": "code",
      "source": [
        "nome = str(input('Digite seu nome: '))\n",
        "print(f'Olá {nome}, seja bem vindo!')"
      ],
      "metadata": {
        "id": "PZZwq0VeufXz"
      },
      "execution_count": null,
      "outputs": []
    },
    {
      "cell_type": "markdown",
      "source": [
        "Crie um programa que leia dois números e mostre a soma entre eles."
      ],
      "metadata": {
        "id": "expvAYrWv0_Y"
      }
    },
    {
      "cell_type": "code",
      "source": [
        "num1 = int(input('Digite um número: '))\n",
        "num2 = int(input('Digite outro número: '))\n",
        "print(f'A soma entre os números digitados é: {num1+num2}')"
      ],
      "metadata": {
        "id": "igfGjp80v5YO"
      },
      "execution_count": null,
      "outputs": []
    },
    {
      "cell_type": "markdown",
      "source": [
        "Faça um programa que leia algo pelo teclado e mostre na tela o seu tipo primitivo e todas as informações possíveis sobre ela."
      ],
      "metadata": {
        "id": "ltSc0JDwwN_g"
      }
    },
    {
      "cell_type": "code",
      "source": [
        "digitado = input('Digite algo: ')\n",
        "print(f'O tipo primitivo desse valor é: {type(digitado)}')\n",
        "print(f'O que foi digitado só tem espaços? {digitado.isspace()}')\n",
        "print(f'O que foi digitado é um número? {digitado.isnumeric()}')\n",
        "print(f'O que foi digitado é alfábetico? {digitado.isalpha()}')\n",
        "print(f'O que foi digitado é alfanúmerico? {digitado.isalnum()}')\n",
        "print(f'O que foi digitado está em maiúsculas? {digitado.isupper()}')\n",
        "print(f'O que foi digitado está em minúsculas? {digitado.islower()}')\n",
        "print(f'O que foi digitado está capitalizado? {digitado.istitle()}')"
      ],
      "metadata": {
        "id": "sj0hUpZZyMs4"
      },
      "execution_count": null,
      "outputs": []
    },
    {
      "cell_type": "markdown",
      "source": [
        "Faça um programa que leia um número inteiro e mostre na tela o seu sucessor e seu antecessor."
      ],
      "metadata": {
        "id": "SlvLZtVc0Odw"
      }
    },
    {
      "cell_type": "code",
      "source": [
        "num = int(input('Digite um número inteiro qualquer: '))\n",
        "print(f'O número digitado é: {num}')\n",
        "print(f'O seu antecessor é: {num-1}')\n",
        "print(f'O seu sucessor é: {num+1}')"
      ],
      "metadata": {
        "id": "c704QPsU0mNs"
      },
      "execution_count": null,
      "outputs": []
    },
    {
      "cell_type": "markdown",
      "source": [
        "Crie um algoritmo que leia um número e mostre o seu dobro, triplo e raiz quadrada."
      ],
      "metadata": {
        "id": "iKPw1F9E2qVN"
      }
    },
    {
      "cell_type": "code",
      "source": [
        "num = int(input('Digite um número: '))\n",
        "print(f'O número digitado é: {num}')\n",
        "print(f'O seu dobro é: {num*2}')\n",
        "print(f'O seu triplo é: {num*3}')\n",
        "print(f'Sua raiz quadrada é: {num**0.5:.2f}')"
      ],
      "metadata": {
        "id": "wtcv21hM2xu2"
      },
      "execution_count": null,
      "outputs": []
    },
    {
      "cell_type": "markdown",
      "source": [
        "Desenvolva um programa que leia as duas notas de um aluno, calcule e mostre sua média."
      ],
      "metadata": {
        "id": "RL9tzOSp4q5v"
      }
    },
    {
      "cell_type": "code",
      "source": [
        "nota1 = float(input('Digite a primeira nota do aluno: '))\n",
        "nota2 = float(input('Digite a segunda nota do aluno: '))\n",
        "print(f'A primeira nota foi {nota1}, a segunda nota foi {nota2} e por isso a média é: {(nota1 + nota2) / 2}')"
      ],
      "metadata": {
        "id": "YyeRJyap402Z"
      },
      "execution_count": null,
      "outputs": []
    },
    {
      "cell_type": "markdown",
      "source": [
        "Escreva um programa que leia um valor em metros e o exiba convertido em centimetros e milímetros."
      ],
      "metadata": {
        "id": "GNIEVyMv5699"
      }
    },
    {
      "cell_type": "code",
      "source": [
        "num = float(input('Digite uma distancia em metros:'))\n",
        "print(f'A distancia digitada em metros foi {num}m, em centímetros foi {num*100:.0f}cm e em milímetros foi {num*1000:.0f}mm')"
      ],
      "metadata": {
        "id": "OFrVhTK-6HSh"
      },
      "execution_count": null,
      "outputs": []
    },
    {
      "cell_type": "markdown",
      "source": [
        "Faça um programa que leia a largura e altura de uma parede em metros. Calcule sua área e a quantidade de tinta necessária para pinta-la. Cada litro de tinta pinta uma área de 2m²."
      ],
      "metadata": {
        "id": "RspUlRPGH0tY"
      }
    },
    {
      "cell_type": "code",
      "source": [
        "print(f'Calcule a quantidade de tinta para pintar sua parede.')\n",
        "larg = float(input('Digite a largura da parede: '))\n",
        "alt = float(input('Digite a altura da parede: '))\n",
        "area = larg*alt\n",
        "print(f'A área total da parede é de {area} e você precisará de {area/2}L para pintá-la.')"
      ],
      "metadata": {
        "id": "EpgZfY4kIMwm"
      },
      "execution_count": null,
      "outputs": []
    },
    {
      "cell_type": "markdown",
      "source": [
        "Faça um algoritmo que leia o preço de um produto e mostre seu novo preço, com 5% de desconto."
      ],
      "metadata": {
        "id": "MKE7pz4yJc7i"
      }
    },
    {
      "cell_type": "code",
      "source": [
        "preco = float(input('Digite o valor do produto: '))\n",
        "print(f'O preço do produto é R${preco:.2f} e com desconto de 5%, sairá por R${preco*0.95:.2f}')"
      ],
      "metadata": {
        "id": "ZU5pFmUTKJLr"
      },
      "execution_count": null,
      "outputs": []
    },
    {
      "cell_type": "markdown",
      "source": [
        "Faça um algoritmo que leia o salário de um funcionário e mostre o seu novo salário, com 15% de aumento."
      ],
      "metadata": {
        "id": "rpyyj4E4K6g7"
      }
    },
    {
      "cell_type": "code",
      "source": [
        "salario = float(input('Digite o salário atual no funcionário: R$'))\n",
        "print(f'O salário de R${salario:.2f}, com o aumento, passará a ser de R${salario*1.15:.2f}')"
      ],
      "metadata": {
        "id": "Nd0Nt_MHLJUd"
      },
      "execution_count": null,
      "outputs": []
    },
    {
      "cell_type": "markdown",
      "source": [
        "Escreva um programa que converta uma temperatura digitada em °C e converta para °F."
      ],
      "metadata": {
        "id": "8pmnJV-OMVvG"
      }
    },
    {
      "cell_type": "code",
      "source": [
        "temp = float(input('Digite a temperatura atual em °C: '))\n",
        "fahr = (temp * 9/5) + 32\n",
        "print(f'A temperatura atual é de {temp}°C e em fahrenheit é de {fahr}°F')"
      ],
      "metadata": {
        "id": "HUXdk9rzMiaa"
      },
      "execution_count": null,
      "outputs": []
    },
    {
      "cell_type": "markdown",
      "source": [
        "Escreva um programa que pergunte a quantidade de km percorrido por um carro alugado e a quantidade de dias pelos quais ele foi alugado. Calcule o preço a pagar, sabendo que o carro custa R$ 60 reais por dia e \n",
        "0,15 por km rodado."
      ],
      "metadata": {
        "id": "zyR5xscdRBJr"
      }
    },
    {
      "cell_type": "code",
      "source": [
        "print('Calculadora de valores a pagar. Locadora Dart.')\n",
        "dias = int(input('Por quantos dias o veículo foi alugado? '))\n",
        "km = float(input('Quantos km foram rodados durante esse período? '))\n",
        "print(f'Você rodou {km}km em {dias} dias.')\n",
        "print(f'O valor pelas diárias é de R${dias*60} e o valor pela kilometragem é de R${km*0.15}')\n",
        "print(f'O valor total é de R${(dias*60)+(km*0.15)}')"
      ],
      "metadata": {
        "id": "vxKJYNGhRU6g"
      },
      "execution_count": null,
      "outputs": []
    }
  ]
}